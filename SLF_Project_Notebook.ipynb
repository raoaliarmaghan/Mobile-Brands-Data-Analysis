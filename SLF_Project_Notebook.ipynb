{
 "cells": [
  {
   "cell_type": "code",
   "execution_count": 1,
   "id": "c54b73a3",
   "metadata": {},
   "outputs": [],
   "source": [
    "import pandas as pd\n",
    "import numpy as np"
   ]
  },
  {
   "cell_type": "code",
   "execution_count": 2,
   "id": "dc6db007",
   "metadata": {},
   "outputs": [
    {
     "data": {
      "text/html": [
       "<div>\n",
       "<style scoped>\n",
       "    .dataframe tbody tr th:only-of-type {\n",
       "        vertical-align: middle;\n",
       "    }\n",
       "\n",
       "    .dataframe tbody tr th {\n",
       "        vertical-align: top;\n",
       "    }\n",
       "\n",
       "    .dataframe thead th {\n",
       "        text-align: right;\n",
       "    }\n",
       "</style>\n",
       "<table border=\"1\" class=\"dataframe\">\n",
       "  <thead>\n",
       "    <tr style=\"text-align: right;\">\n",
       "      <th></th>\n",
       "      <th>brand_name</th>\n",
       "      <th>os</th>\n",
       "      <th>screen_size</th>\n",
       "      <th>4g</th>\n",
       "      <th>5g</th>\n",
       "      <th>main_camera_mp</th>\n",
       "      <th>selfie_camera_mp</th>\n",
       "      <th>int_memory</th>\n",
       "      <th>ram</th>\n",
       "      <th>battery</th>\n",
       "      <th>weight</th>\n",
       "      <th>release_year</th>\n",
       "      <th>days_used</th>\n",
       "      <th>new_price</th>\n",
       "      <th>used_price</th>\n",
       "    </tr>\n",
       "  </thead>\n",
       "  <tbody>\n",
       "    <tr>\n",
       "      <th>0</th>\n",
       "      <td>Honor</td>\n",
       "      <td>Android</td>\n",
       "      <td>23.97</td>\n",
       "      <td>yes</td>\n",
       "      <td>no</td>\n",
       "      <td>13.0</td>\n",
       "      <td>5.0</td>\n",
       "      <td>64.0</td>\n",
       "      <td>3.0</td>\n",
       "      <td>3020.0</td>\n",
       "      <td>146.0</td>\n",
       "      <td>2020</td>\n",
       "      <td>127</td>\n",
       "      <td>111.62</td>\n",
       "      <td>86.96</td>\n",
       "    </tr>\n",
       "    <tr>\n",
       "      <th>1</th>\n",
       "      <td>Honor</td>\n",
       "      <td>Android</td>\n",
       "      <td>28.10</td>\n",
       "      <td>yes</td>\n",
       "      <td>yes</td>\n",
       "      <td>13.0</td>\n",
       "      <td>16.0</td>\n",
       "      <td>128.0</td>\n",
       "      <td>8.0</td>\n",
       "      <td>4300.0</td>\n",
       "      <td>213.0</td>\n",
       "      <td>2020</td>\n",
       "      <td>325</td>\n",
       "      <td>249.39</td>\n",
       "      <td>161.49</td>\n",
       "    </tr>\n",
       "    <tr>\n",
       "      <th>2</th>\n",
       "      <td>Honor</td>\n",
       "      <td>Android</td>\n",
       "      <td>24.29</td>\n",
       "      <td>yes</td>\n",
       "      <td>yes</td>\n",
       "      <td>13.0</td>\n",
       "      <td>8.0</td>\n",
       "      <td>128.0</td>\n",
       "      <td>8.0</td>\n",
       "      <td>4200.0</td>\n",
       "      <td>213.0</td>\n",
       "      <td>2020</td>\n",
       "      <td>162</td>\n",
       "      <td>359.47</td>\n",
       "      <td>268.55</td>\n",
       "    </tr>\n",
       "    <tr>\n",
       "      <th>3</th>\n",
       "      <td>Honor</td>\n",
       "      <td>Android</td>\n",
       "      <td>26.04</td>\n",
       "      <td>yes</td>\n",
       "      <td>yes</td>\n",
       "      <td>13.0</td>\n",
       "      <td>8.0</td>\n",
       "      <td>64.0</td>\n",
       "      <td>6.0</td>\n",
       "      <td>7250.0</td>\n",
       "      <td>480.0</td>\n",
       "      <td>2020</td>\n",
       "      <td>345</td>\n",
       "      <td>278.93</td>\n",
       "      <td>180.23</td>\n",
       "    </tr>\n",
       "    <tr>\n",
       "      <th>4</th>\n",
       "      <td>Honor</td>\n",
       "      <td>Android</td>\n",
       "      <td>15.72</td>\n",
       "      <td>yes</td>\n",
       "      <td>no</td>\n",
       "      <td>13.0</td>\n",
       "      <td>8.0</td>\n",
       "      <td>64.0</td>\n",
       "      <td>3.0</td>\n",
       "      <td>5000.0</td>\n",
       "      <td>185.0</td>\n",
       "      <td>2020</td>\n",
       "      <td>293</td>\n",
       "      <td>140.87</td>\n",
       "      <td>103.80</td>\n",
       "    </tr>\n",
       "  </tbody>\n",
       "</table>\n",
       "</div>"
      ],
      "text/plain": [
       "  brand_name       os  screen_size   4g   5g  main_camera_mp  \\\n",
       "0      Honor  Android        23.97  yes   no            13.0   \n",
       "1      Honor  Android        28.10  yes  yes            13.0   \n",
       "2      Honor  Android        24.29  yes  yes            13.0   \n",
       "3      Honor  Android        26.04  yes  yes            13.0   \n",
       "4      Honor  Android        15.72  yes   no            13.0   \n",
       "\n",
       "   selfie_camera_mp  int_memory  ram  battery  weight  release_year  \\\n",
       "0               5.0        64.0  3.0   3020.0   146.0          2020   \n",
       "1              16.0       128.0  8.0   4300.0   213.0          2020   \n",
       "2               8.0       128.0  8.0   4200.0   213.0          2020   \n",
       "3               8.0        64.0  6.0   7250.0   480.0          2020   \n",
       "4               8.0        64.0  3.0   5000.0   185.0          2020   \n",
       "\n",
       "   days_used  new_price  used_price  \n",
       "0        127     111.62       86.96  \n",
       "1        325     249.39      161.49  \n",
       "2        162     359.47      268.55  \n",
       "3        345     278.93      180.23  \n",
       "4        293     140.87      103.80  "
      ]
     },
     "execution_count": 2,
     "metadata": {},
     "output_type": "execute_result"
    }
   ],
   "source": [
    "df_data = pd.read_csv('used_phone_data.csv')\n",
    "df_data.head()"
   ]
  },
  {
   "cell_type": "code",
   "execution_count": 3,
   "id": "d7cc3fd5",
   "metadata": {},
   "outputs": [
    {
     "data": {
      "text/plain": [
       "(3571, 15)"
      ]
     },
     "execution_count": 3,
     "metadata": {},
     "output_type": "execute_result"
    }
   ],
   "source": [
    "df_data.shape"
   ]
  },
  {
   "cell_type": "code",
   "execution_count": 4,
   "id": "647fc32f",
   "metadata": {},
   "outputs": [
    {
     "name": "stdout",
     "output_type": "stream",
     "text": [
      "<class 'pandas.core.frame.DataFrame'>\n",
      "RangeIndex: 3571 entries, 0 to 3570\n",
      "Data columns (total 15 columns):\n",
      " #   Column            Non-Null Count  Dtype  \n",
      "---  ------            --------------  -----  \n",
      " 0   brand_name        3571 non-null   object \n",
      " 1   os                3571 non-null   object \n",
      " 2   screen_size       3571 non-null   float64\n",
      " 3   4g                3571 non-null   object \n",
      " 4   5g                3571 non-null   object \n",
      " 5   main_camera_mp    3391 non-null   float64\n",
      " 6   selfie_camera_mp  3569 non-null   float64\n",
      " 7   int_memory        3561 non-null   float64\n",
      " 8   ram               3561 non-null   float64\n",
      " 9   battery           3565 non-null   float64\n",
      " 10  weight            3564 non-null   float64\n",
      " 11  release_year      3571 non-null   int64  \n",
      " 12  days_used         3571 non-null   int64  \n",
      " 13  new_price         3571 non-null   float64\n",
      " 14  used_price        3571 non-null   float64\n",
      "dtypes: float64(9), int64(2), object(4)\n",
      "memory usage: 418.6+ KB\n"
     ]
    }
   ],
   "source": [
    "df_data.info()"
   ]
  },
  {
   "cell_type": "markdown",
   "id": "59a4d6a4",
   "metadata": {},
   "source": [
    "### Top Brands"
   ]
  },
  {
   "cell_type": "code",
   "execution_count": 5,
   "id": "abd35d62",
   "metadata": {},
   "outputs": [
    {
     "data": {
      "text/plain": [
       "<AxesSubplot:xlabel='brand_name'>"
      ]
     },
     "execution_count": 5,
     "metadata": {},
     "output_type": "execute_result"
    },
    {
     "data": {
      "image/png": "[encoded data removed]",
      "text/plain": [
       "<Figure size 432x288 with 1 Axes>"
      ]
     },
     "metadata": {
      "needs_background": "light"
     },
     "output_type": "display_data"
    }
   ],
   "source": [
    "df_data.groupby(['brand_name']).size().sort_values(ascending=False).plot(kind='bar')"
   ]
  },
  {
   "cell_type": "markdown",
   "id": "ae1ab0d7",
   "metadata": {},
   "source": [
    "### Top OS that are used in Mobiles"
   ]
  },
  {
   "cell_type": "code",
   "execution_count": 6,
   "id": "cb80f719",
   "metadata": {},
   "outputs": [
    {
     "data": {
      "text/plain": [
       "<AxesSubplot:ylabel='None'>"
      ]
     },
     "execution_count": 6,
     "metadata": {},
     "output_type": "execute_result"
    },
    {
     "data": {
      "image/png": "[encoded data removed]",
      "text/plain": [
       "<Figure size 432x288 with 1 Axes>"
      ]
     },
     "metadata": {},
     "output_type": "display_data"
    }
   ],
   "source": [
    "df_data.groupby(['os']).size().plot(kind='pie')"
   ]
  },
  {
   "cell_type": "markdown",
   "id": "eabf0e49",
   "metadata": {},
   "source": [
    "### Year on which most Mobiles were Released"
   ]
  },
  {
   "cell_type": "code",
   "execution_count": 7,
   "id": "17cb5fd1",
   "metadata": {},
   "outputs": [
    {
     "data": {
      "text/plain": [
       "<AxesSubplot:ylabel='None'>"
      ]
     },
     "execution_count": 7,
     "metadata": {},
     "output_type": "execute_result"
    },
    {
     "data": {
      "image/png": "[encoded data removed]",
      "text/plain": [
       "<Figure size 432x288 with 1 Axes>"
      ]
     },
     "metadata": {},
     "output_type": "display_data"
    }
   ],
   "source": [
    "df_data.groupby(['release_year']).size().plot(kind='pie')"
   ]
  },
  {
   "cell_type": "markdown",
   "id": "8c30b82f",
   "metadata": {},
   "source": [
    "### Which Internal Memory is mostly used in Mobiles?"
   ]
  },
  {
   "cell_type": "code",
   "execution_count": 8,
   "id": "6e354a29",
   "metadata": {},
   "outputs": [
    {
     "data": {
      "text/plain": [
       "<AxesSubplot:xlabel='int_memory'>"
      ]
     },
     "execution_count": 8,
     "metadata": {},
     "output_type": "execute_result"
    },
    {
     "data": {
      "image/png": "[encoded data removed]",
      "text/plain": [
       "<Figure size 432x288 with 1 Axes>"
      ]
     },
     "metadata": {
      "needs_background": "light"
     },
     "output_type": "display_data"
    }
   ],
   "source": [
    "df_data.groupby(['int_memory']).size().plot(kind='bar')"
   ]
  },
  {
   "cell_type": "markdown",
   "id": "424a0ae1",
   "metadata": {},
   "source": [
    "### Which RAM is mostly used in Mobiles?"
   ]
  },
  {
   "cell_type": "code",
   "execution_count": 9,
   "id": "3e3a3cbb",
   "metadata": {},
   "outputs": [
    {
     "data": {
      "text/plain": [
       "<AxesSubplot:xlabel='ram'>"
      ]
     },
     "execution_count": 9,
     "metadata": {},
     "output_type": "execute_result"
    },
    {
     "data": {
      "image/png": "[encoded data removed]",
      "text/plain": [
       "<Figure size 432x288 with 1 Axes>"
      ]
     },
     "metadata": {
      "needs_background": "light"
     },
     "output_type": "display_data"
    }
   ],
   "source": [
    "df_data.groupby(['ram']).size().plot(kind='bar')"
   ]
  },
  {
   "cell_type": "code",
   "execution_count": null,
   "id": "be425449",
   "metadata": {},
   "outputs": [],
   "source": []
  },
  {
   "cell_type": "markdown",
   "id": "261fb6c1",
   "metadata": {},
   "source": [
    "### Which Mobile is mostly used by which OS."
   ]
  },
  {
   "cell_type": "code",
   "execution_count": 10,
   "id": "d89dc8c5",
   "metadata": {},
   "outputs": [
    {
     "data": {
      "text/plain": [
       "<AxesSubplot:xlabel='brand_name,os'>"
      ]
     },
     "execution_count": 10,
     "metadata": {},
     "output_type": "execute_result"
    },
    {
     "data": {
      "image/png": "[encoded data removed]",
      "text/plain": [
       "<Figure size 432x288 with 1 Axes>"
      ]
     },
     "metadata": {
      "needs_background": "light"
     },
     "output_type": "display_data"
    }
   ],
   "source": [
    "df_data.groupby(['brand_name', 'os']).size().sort_values(ascending=False)[:20].plot(kind='bar')\n"
   ]
  },
  {
   "cell_type": "code",
   "execution_count": null,
   "id": "4cf8702c",
   "metadata": {},
   "outputs": [],
   "source": []
  },
  {
   "cell_type": "markdown",
   "id": "2d73e358",
   "metadata": {},
   "source": [
    "### Mobiles that are Mostly Expensive in New_Price"
   ]
  },
  {
   "cell_type": "code",
   "execution_count": 11,
   "id": "8c7b26ae",
   "metadata": {},
   "outputs": [
    {
     "data": {
      "text/plain": [
       "brand_name\n",
       "Apple         639.004941\n",
       "OnePlus       558.230818\n",
       "Google        474.716667\n",
       "Oppo          341.912481\n",
       "Huawei        323.960091\n",
       "Vivo          320.268355\n",
       "Samsung       293.854500\n",
       "Sony          280.829676\n",
       "Meizu         269.569242\n",
       "Xiaomi        257.326422\n",
       "Gionee        255.379286\n",
       "Asus          250.998766\n",
       "HTC           249.853818\n",
       "LG            242.218203\n",
       "Honor         235.897915\n",
       "BlackBerry    234.774545\n",
       "ZTE           216.800922\n",
       "Motorola      209.448464\n",
       "Coolpad       194.285455\n",
       "Lenovo        193.358779\n",
       "Others        191.112094\n",
       "Realme        186.031415\n",
       "Acer          172.867647\n",
       "Panasonic     171.426596\n",
       "Microsoft     166.366818\n",
       "Alcatel       142.499092\n",
       "XOLO          130.898571\n",
       "Nokia         130.600802\n",
       "Karbonn       110.384333\n",
       "Lava          107.424722\n",
       "Micromax      106.964667\n",
       "Infinix       106.017000\n",
       "Spice          98.000000\n",
       "Celkon         60.956486\n",
       "Name: new_price, dtype: float64"
      ]
     },
     "execution_count": 11,
     "metadata": {},
     "output_type": "execute_result"
    }
   ],
   "source": [
    "df_data.groupby(['brand_name'])['new_price'].mean().sort_values(ascending=False)"
   ]
  },
  {
   "cell_type": "code",
   "execution_count": 12,
   "id": "6bec0e43",
   "metadata": {},
   "outputs": [
    {
     "data": {
      "text/plain": [
       "<AxesSubplot:xlabel='brand_name'>"
      ]
     },
     "execution_count": 12,
     "metadata": {},
     "output_type": "execute_result"
    },
    {
     "data": {
      "image/png": "[encoded data removed]",
      "text/plain": [
       "<Figure size 432x288 with 1 Axes>"
      ]
     },
     "metadata": {
      "needs_background": "light"
     },
     "output_type": "display_data"
    }
   ],
   "source": [
    "df_data.groupby(['brand_name'])['new_price'].mean().sort_values(ascending=False)[:10].plot(kind='bar')"
   ]
  },
  {
   "cell_type": "code",
   "execution_count": null,
   "id": "092bdff3",
   "metadata": {},
   "outputs": [],
   "source": []
  },
  {
   "cell_type": "markdown",
   "id": "55503ccd",
   "metadata": {},
   "source": [
    "### Mobiles that are most expensive in Used Mobiles."
   ]
  },
  {
   "cell_type": "code",
   "execution_count": 13,
   "id": "216074f4",
   "metadata": {},
   "outputs": [
    {
     "data": {
      "text/plain": [
       "brand_name\n",
       "OnePlus       318.515909\n",
       "Apple         293.228814\n",
       "Google        239.211333\n",
       "Oppo          180.845271\n",
       "Huawei        176.256894\n",
       "Vivo          168.190855\n",
       "Xiaomi        137.465149\n",
       "Honor         132.285932\n",
       "Samsung       132.083462\n",
       "Meizu         126.515484\n",
       "Realme        124.169024\n",
       "Sony          119.886136\n",
       "LG            115.853726\n",
       "Motorola      107.695636\n",
       "Asus          103.764921\n",
       "BlackBerry    102.039091\n",
       "HTC            99.626000\n",
       "ZTE            93.621489\n",
       "Gionee         91.881964\n",
       "Others         78.492102\n",
       "Coolpad        77.928182\n",
       "Lenovo         77.147500\n",
       "Infinix        68.979000\n",
       "Acer           63.798431\n",
       "Panasonic      60.302979\n",
       "Nokia          59.393719\n",
       "Alcatel        55.326080\n",
       "Microsoft      55.316818\n",
       "XOLO           47.340204\n",
       "Lava           40.112778\n",
       "Micromax       38.134417\n",
       "Karbonn        38.069333\n",
       "Spice          32.299667\n",
       "Celkon         22.648378\n",
       "Name: used_price, dtype: float64"
      ]
     },
     "execution_count": 13,
     "metadata": {},
     "output_type": "execute_result"
    }
   ],
   "source": [
    "df_data.groupby(['brand_name'])['used_price'].mean().sort_values(ascending=False)"
   ]
  },
  {
   "cell_type": "code",
   "execution_count": 14,
   "id": "b94bd0c4",
   "metadata": {},
   "outputs": [
    {
     "data": {
      "text/plain": [
       "<AxesSubplot:xlabel='brand_name'>"
      ]
     },
     "execution_count": 14,
     "metadata": {},
     "output_type": "execute_result"
    },
    {
     "data": {
      "image/png": "[encoded data removed]",
      "text/plain": [
       "<Figure size 432x288 with 1 Axes>"
      ]
     },
     "metadata": {
      "needs_background": "light"
     },
     "output_type": "display_data"
    }
   ],
   "source": [
    "df_data.groupby(['brand_name'])['used_price'].mean().sort_values(ascending=False)[:10].plot(kind='bar')"
   ]
  },
  {
   "cell_type": "code",
   "execution_count": null,
   "id": "de2b6720",
   "metadata": {},
   "outputs": [],
   "source": []
  },
  {
   "cell_type": "markdown",
   "id": "1ead1200",
   "metadata": {},
   "source": [
    "### Mobiles that are used for most number of days."
   ]
  },
  {
   "cell_type": "code",
   "execution_count": 15,
   "id": "62548c31",
   "metadata": {},
   "outputs": [
    {
     "data": {
      "text/plain": [
       "brand_name\n",
       "Spice         881.233333\n",
       "Microsoft     853.636364\n",
       "XOLO          823.244898\n",
       "Karbonn       820.066667\n",
       "Micromax      816.508333\n",
       "Panasonic     810.468085\n",
       "Celkon        801.405405\n",
       "Acer          795.921569\n",
       "Lava          787.222222\n",
       "Gionee        782.642857\n",
       "Coolpad       766.227273\n",
       "HTC           756.818182\n",
       "Alcatel       752.632000\n",
       "Asus          746.587302\n",
       "Others        740.153242\n",
       "Sony          730.022727\n",
       "ZTE           726.297872\n",
       "Lenovo        724.767442\n",
       "Samsung       701.370879\n",
       "BlackBerry    692.909091\n",
       "LG            668.490566\n",
       "Meizu         657.032258\n",
       "Apple         650.915254\n",
       "Nokia         621.338843\n",
       "Huawei        556.806818\n",
       "Motorola      556.763636\n",
       "Oppo          550.945736\n",
       "Xiaomi        540.380597\n",
       "Google        519.200000\n",
       "OnePlus       513.000000\n",
       "Vivo          500.598291\n",
       "Honor         465.601695\n",
       "Realme        313.390244\n",
       "Infinix       313.300000\n",
       "Name: days_used, dtype: float64"
      ]
     },
     "execution_count": 15,
     "metadata": {},
     "output_type": "execute_result"
    }
   ],
   "source": [
    "df_data.groupby(['brand_name'])['days_used'].mean().sort_values(ascending=False)"
   ]
  },
  {
   "cell_type": "code",
   "execution_count": 16,
   "id": "654e8c1f",
   "metadata": {},
   "outputs": [
    {
     "data": {
      "text/plain": [
       "<AxesSubplot:xlabel='brand_name'>"
      ]
     },
     "execution_count": 16,
     "metadata": {},
     "output_type": "execute_result"
    },
    {
     "data": {
      "image/png": "[encoded data removed]",
      "text/plain": [
       "<Figure size 432x288 with 1 Axes>"
      ]
     },
     "metadata": {
      "needs_background": "light"
     },
     "output_type": "display_data"
    }
   ],
   "source": [
    "df_data.groupby(['brand_name'])['days_used'].mean().sort_values(ascending=False)[:10].plot(kind='bar')"
   ]
  },
  {
   "cell_type": "code",
   "execution_count": null,
   "id": "6fd23735",
   "metadata": {},
   "outputs": [],
   "source": []
  },
  {
   "cell_type": "markdown",
   "id": "71527a86",
   "metadata": {},
   "source": [
    "# Data Preprocessing"
   ]
  },
  {
   "cell_type": "markdown",
   "id": "885c0524",
   "metadata": {},
   "source": [
    "### Removing The Duplicates if any."
   ]
  },
  {
   "cell_type": "code",
   "execution_count": 17,
   "id": "428c201b",
   "metadata": {},
   "outputs": [
    {
     "data": {
      "text/plain": [
       "(3571, 15)"
      ]
     },
     "execution_count": 17,
     "metadata": {},
     "output_type": "execute_result"
    }
   ],
   "source": [
    "df_data.drop_duplicates(inplace=True)\n",
    "df_data.shape"
   ]
  },
  {
   "cell_type": "markdown",
   "id": "30970526",
   "metadata": {},
   "source": [
    "### Checking the Null Values."
   ]
  },
  {
   "cell_type": "code",
   "execution_count": 18,
   "id": "af8c131c",
   "metadata": {},
   "outputs": [
    {
     "data": {
      "text/plain": [
       "brand_name            0\n",
       "os                    0\n",
       "screen_size           0\n",
       "4g                    0\n",
       "5g                    0\n",
       "main_camera_mp      180\n",
       "selfie_camera_mp      2\n",
       "int_memory           10\n",
       "ram                  10\n",
       "battery               6\n",
       "weight                7\n",
       "release_year          0\n",
       "days_used             0\n",
       "new_price             0\n",
       "used_price            0\n",
       "dtype: int64"
      ]
     },
     "execution_count": 18,
     "metadata": {},
     "output_type": "execute_result"
    }
   ],
   "source": [
    "df_data.isna().sum()"
   ]
  },
  {
   "cell_type": "markdown",
   "id": "f16ce2e9",
   "metadata": {},
   "source": [
    "### Filling some of the features of Mobiles to 0 values."
   ]
  },
  {
   "cell_type": "code",
   "execution_count": 19,
   "id": "cc5be8df",
   "metadata": {},
   "outputs": [],
   "source": [
    "df_data['main_camera_mp'] = df_data['main_camera_mp'].fillna(0)"
   ]
  },
  {
   "cell_type": "code",
   "execution_count": 20,
   "id": "701627f4",
   "metadata": {},
   "outputs": [],
   "source": [
    "df_data['selfie_camera_mp'] = df_data['selfie_camera_mp'].fillna(0)"
   ]
  },
  {
   "cell_type": "code",
   "execution_count": 21,
   "id": "0d1c8283",
   "metadata": {},
   "outputs": [],
   "source": [
    "df_data['int_memory'] = df_data['int_memory'].fillna(0)"
   ]
  },
  {
   "cell_type": "code",
   "execution_count": 22,
   "id": "b49e4839",
   "metadata": {},
   "outputs": [],
   "source": [
    "df_data['ram'] = df_data['ram'].fillna(0)"
   ]
  },
  {
   "cell_type": "code",
   "execution_count": 23,
   "id": "596aa5d8",
   "metadata": {},
   "outputs": [
    {
     "data": {
      "text/plain": [
       "brand_name          0\n",
       "os                  0\n",
       "screen_size         0\n",
       "4g                  0\n",
       "5g                  0\n",
       "main_camera_mp      0\n",
       "selfie_camera_mp    0\n",
       "int_memory          0\n",
       "ram                 0\n",
       "battery             6\n",
       "weight              7\n",
       "release_year        0\n",
       "days_used           0\n",
       "new_price           0\n",
       "used_price          0\n",
       "dtype: int64"
      ]
     },
     "execution_count": 23,
     "metadata": {},
     "output_type": "execute_result"
    }
   ],
   "source": [
    "df_data.isna().sum()"
   ]
  },
  {
   "cell_type": "markdown",
   "id": "ef32eb44",
   "metadata": {},
   "source": [
    "### Dropping the records which have \"Battery\" and \"Weight\" feature of the Mobiles missing."
   ]
  },
  {
   "cell_type": "code",
   "execution_count": 24,
   "id": "39d5ce96",
   "metadata": {},
   "outputs": [],
   "source": [
    "df_data = df_data.dropna()"
   ]
  },
  {
   "cell_type": "markdown",
   "id": "918812d8",
   "metadata": {},
   "source": [
    "df_data.isna().sum()"
   ]
  },
  {
   "cell_type": "code",
   "execution_count": null,
   "id": "499bfe49",
   "metadata": {},
   "outputs": [],
   "source": []
  },
  {
   "cell_type": "markdown",
   "id": "0dcb7532",
   "metadata": {},
   "source": [
    "# Model Building - Linear Regression"
   ]
  },
  {
   "cell_type": "code",
   "execution_count": 25,
   "id": "eb64f51b",
   "metadata": {},
   "outputs": [],
   "source": [
    "from sklearn.linear_model import LinearRegression"
   ]
  },
  {
   "cell_type": "code",
   "execution_count": 26,
   "id": "075dba49",
   "metadata": {},
   "outputs": [
    {
     "data": {
      "text/plain": [
       "Index(['brand_name', 'os', 'screen_size', '4g', '5g', 'main_camera_mp',\n",
       "       'selfie_camera_mp', 'int_memory', 'ram', 'battery', 'weight',\n",
       "       'release_year', 'days_used', 'new_price', 'used_price'],\n",
       "      dtype='object')"
      ]
     },
     "execution_count": 26,
     "metadata": {},
     "output_type": "execute_result"
    }
   ],
   "source": [
    "df_data.columns"
   ]
  },
  {
   "cell_type": "code",
   "execution_count": 27,
   "id": "88ddcee8",
   "metadata": {},
   "outputs": [],
   "source": [
    "x = df_data[['brand_name', 'os', 'screen_size', '4g', '5g', 'main_camera_mp',\n",
    "       'selfie_camera_mp', 'int_memory', 'ram', 'battery', 'weight',\n",
    "       'release_year', 'days_used']]\n",
    "y = df_data['new_price']"
   ]
  },
  {
   "cell_type": "code",
   "execution_count": 28,
   "id": "030f5e71",
   "metadata": {},
   "outputs": [
    {
     "data": {
      "text/plain": [
       "array(['Honor', 'Others', 'HTC', 'Huawei', 'Infinix', 'Lava', 'Lenovo',\n",
       "       'LG', 'Meizu', 'Micromax', 'Motorola', 'Nokia', 'OnePlus', 'Oppo',\n",
       "       'Realme', 'Samsung', 'Vivo', 'Xiaomi', 'ZTE', 'Apple', 'Asus',\n",
       "       'Coolpad', 'Acer', 'Alcatel', 'BlackBerry', 'Celkon', 'Gionee',\n",
       "       'Google', 'Karbonn', 'Microsoft', 'Panasonic', 'Sony', 'Spice',\n",
       "       'XOLO'], dtype=object)"
      ]
     },
     "execution_count": 28,
     "metadata": {},
     "output_type": "execute_result"
    }
   ],
   "source": [
    "x['brand_name'].unique()"
   ]
  },
  {
   "cell_type": "code",
   "execution_count": null,
   "id": "cf002c21",
   "metadata": {},
   "outputs": [],
   "source": []
  },
  {
   "cell_type": "markdown",
   "id": "9aac32cc",
   "metadata": {},
   "source": [
    "### Converting the String Type columns to Get Dummies. so that model work properly"
   ]
  },
  {
   "cell_type": "code",
   "execution_count": 29,
   "id": "b0dec7c6",
   "metadata": {},
   "outputs": [],
   "source": [
    "brand = pd.get_dummies(x['brand_name'])"
   ]
  },
  {
   "cell_type": "code",
   "execution_count": 30,
   "id": "d80d7250",
   "metadata": {},
   "outputs": [],
   "source": [
    "x = x.join(brand)\n",
    "x.drop(['brand_name'], axis=1, inplace=True)"
   ]
  },
  {
   "cell_type": "code",
   "execution_count": 31,
   "id": "04fc7828",
   "metadata": {},
   "outputs": [
    {
     "data": {
      "text/html": [
       "<div>\n",
       "<style scoped>\n",
       "    .dataframe tbody tr th:only-of-type {\n",
       "        vertical-align: middle;\n",
       "    }\n",
       "\n",
       "    .dataframe tbody tr th {\n",
       "        vertical-align: top;\n",
       "    }\n",
       "\n",
       "    .dataframe thead th {\n",
       "        text-align: right;\n",
       "    }\n",
       "</style>\n",
       "<table border=\"1\" class=\"dataframe\">\n",
       "  <thead>\n",
       "    <tr style=\"text-align: right;\">\n",
       "      <th></th>\n",
       "      <th>os</th>\n",
       "      <th>screen_size</th>\n",
       "      <th>4g</th>\n",
       "      <th>5g</th>\n",
       "      <th>main_camera_mp</th>\n",
       "      <th>selfie_camera_mp</th>\n",
       "      <th>int_memory</th>\n",
       "      <th>ram</th>\n",
       "      <th>battery</th>\n",
       "      <th>weight</th>\n",
       "      <th>...</th>\n",
       "      <th>Others</th>\n",
       "      <th>Panasonic</th>\n",
       "      <th>Realme</th>\n",
       "      <th>Samsung</th>\n",
       "      <th>Sony</th>\n",
       "      <th>Spice</th>\n",
       "      <th>Vivo</th>\n",
       "      <th>XOLO</th>\n",
       "      <th>Xiaomi</th>\n",
       "      <th>ZTE</th>\n",
       "    </tr>\n",
       "  </thead>\n",
       "  <tbody>\n",
       "    <tr>\n",
       "      <th>0</th>\n",
       "      <td>Android</td>\n",
       "      <td>23.97</td>\n",
       "      <td>yes</td>\n",
       "      <td>no</td>\n",
       "      <td>13.0</td>\n",
       "      <td>5.0</td>\n",
       "      <td>64.0</td>\n",
       "      <td>3.0</td>\n",
       "      <td>3020.0</td>\n",
       "      <td>146.0</td>\n",
       "      <td>...</td>\n",
       "      <td>0</td>\n",
       "      <td>0</td>\n",
       "      <td>0</td>\n",
       "      <td>0</td>\n",
       "      <td>0</td>\n",
       "      <td>0</td>\n",
       "      <td>0</td>\n",
       "      <td>0</td>\n",
       "      <td>0</td>\n",
       "      <td>0</td>\n",
       "    </tr>\n",
       "    <tr>\n",
       "      <th>1</th>\n",
       "      <td>Android</td>\n",
       "      <td>28.10</td>\n",
       "      <td>yes</td>\n",
       "      <td>yes</td>\n",
       "      <td>13.0</td>\n",
       "      <td>16.0</td>\n",
       "      <td>128.0</td>\n",
       "      <td>8.0</td>\n",
       "      <td>4300.0</td>\n",
       "      <td>213.0</td>\n",
       "      <td>...</td>\n",
       "      <td>0</td>\n",
       "      <td>0</td>\n",
       "      <td>0</td>\n",
       "      <td>0</td>\n",
       "      <td>0</td>\n",
       "      <td>0</td>\n",
       "      <td>0</td>\n",
       "      <td>0</td>\n",
       "      <td>0</td>\n",
       "      <td>0</td>\n",
       "    </tr>\n",
       "    <tr>\n",
       "      <th>2</th>\n",
       "      <td>Android</td>\n",
       "      <td>24.29</td>\n",
       "      <td>yes</td>\n",
       "      <td>yes</td>\n",
       "      <td>13.0</td>\n",
       "      <td>8.0</td>\n",
       "      <td>128.0</td>\n",
       "      <td>8.0</td>\n",
       "      <td>4200.0</td>\n",
       "      <td>213.0</td>\n",
       "      <td>...</td>\n",
       "      <td>0</td>\n",
       "      <td>0</td>\n",
       "      <td>0</td>\n",
       "      <td>0</td>\n",
       "      <td>0</td>\n",
       "      <td>0</td>\n",
       "      <td>0</td>\n",
       "      <td>0</td>\n",
       "      <td>0</td>\n",
       "      <td>0</td>\n",
       "    </tr>\n",
       "    <tr>\n",
       "      <th>3</th>\n",
       "      <td>Android</td>\n",
       "      <td>26.04</td>\n",
       "      <td>yes</td>\n",
       "      <td>yes</td>\n",
       "      <td>13.0</td>\n",
       "      <td>8.0</td>\n",
       "      <td>64.0</td>\n",
       "      <td>6.0</td>\n",
       "      <td>7250.0</td>\n",
       "      <td>480.0</td>\n",
       "      <td>...</td>\n",
       "      <td>0</td>\n",
       "      <td>0</td>\n",
       "      <td>0</td>\n",
       "      <td>0</td>\n",
       "      <td>0</td>\n",
       "      <td>0</td>\n",
       "      <td>0</td>\n",
       "      <td>0</td>\n",
       "      <td>0</td>\n",
       "      <td>0</td>\n",
       "    </tr>\n",
       "    <tr>\n",
       "      <th>4</th>\n",
       "      <td>Android</td>\n",
       "      <td>15.72</td>\n",
       "      <td>yes</td>\n",
       "      <td>no</td>\n",
       "      <td>13.0</td>\n",
       "      <td>8.0</td>\n",
       "      <td>64.0</td>\n",
       "      <td>3.0</td>\n",
       "      <td>5000.0</td>\n",
       "      <td>185.0</td>\n",
       "      <td>...</td>\n",
       "      <td>0</td>\n",
       "      <td>0</td>\n",
       "      <td>0</td>\n",
       "      <td>0</td>\n",
       "      <td>0</td>\n",
       "      <td>0</td>\n",
       "      <td>0</td>\n",
       "      <td>0</td>\n",
       "      <td>0</td>\n",
       "      <td>0</td>\n",
       "    </tr>\n",
       "  </tbody>\n",
       "</table>\n",
       "<p>5 rows × 46 columns</p>\n",
       "</div>"
      ],
      "text/plain": [
       "        os  screen_size   4g   5g  main_camera_mp  selfie_camera_mp  \\\n",
       "0  Android        23.97  yes   no            13.0               5.0   \n",
       "1  Android        28.10  yes  yes            13.0              16.0   \n",
       "2  Android        24.29  yes  yes            13.0               8.0   \n",
       "3  Android        26.04  yes  yes            13.0               8.0   \n",
       "4  Android        15.72  yes   no            13.0               8.0   \n",
       "\n",
       "   int_memory  ram  battery  weight  ...  Others  Panasonic  Realme  Samsung  \\\n",
       "0        64.0  3.0   3020.0   146.0  ...       0          0       0        0   \n",
       "1       128.0  8.0   4300.0   213.0  ...       0          0       0        0   \n",
       "2       128.0  8.0   4200.0   213.0  ...       0          0       0        0   \n",
       "3        64.0  6.0   7250.0   480.0  ...       0          0       0        0   \n",
       "4        64.0  3.0   5000.0   185.0  ...       0          0       0        0   \n",
       "\n",
       "   Sony  Spice  Vivo  XOLO  Xiaomi  ZTE  \n",
       "0     0      0     0     0       0    0  \n",
       "1     0      0     0     0       0    0  \n",
       "2     0      0     0     0       0    0  \n",
       "3     0      0     0     0       0    0  \n",
       "4     0      0     0     0       0    0  \n",
       "\n",
       "[5 rows x 46 columns]"
      ]
     },
     "execution_count": 31,
     "metadata": {},
     "output_type": "execute_result"
    }
   ],
   "source": [
    "x.head()"
   ]
  },
  {
   "cell_type": "code",
   "execution_count": 32,
   "id": "784be8c0",
   "metadata": {},
   "outputs": [],
   "source": [
    "os1 = pd.get_dummies(x['os'])\n"
   ]
  },
  {
   "cell_type": "code",
   "execution_count": 33,
   "id": "8c35e007",
   "metadata": {},
   "outputs": [
    {
     "data": {
      "text/html": [
       "<div>\n",
       "<style scoped>\n",
       "    .dataframe tbody tr th:only-of-type {\n",
       "        vertical-align: middle;\n",
       "    }\n",
       "\n",
       "    .dataframe tbody tr th {\n",
       "        vertical-align: top;\n",
       "    }\n",
       "\n",
       "    .dataframe thead th {\n",
       "        text-align: right;\n",
       "    }\n",
       "</style>\n",
       "<table border=\"1\" class=\"dataframe\">\n",
       "  <thead>\n",
       "    <tr style=\"text-align: right;\">\n",
       "      <th></th>\n",
       "      <th>screen_size</th>\n",
       "      <th>4g</th>\n",
       "      <th>5g</th>\n",
       "      <th>main_camera_mp</th>\n",
       "      <th>selfie_camera_mp</th>\n",
       "      <th>int_memory</th>\n",
       "      <th>ram</th>\n",
       "      <th>battery</th>\n",
       "      <th>weight</th>\n",
       "      <th>release_year</th>\n",
       "      <th>...</th>\n",
       "      <th>Sony</th>\n",
       "      <th>Spice</th>\n",
       "      <th>Vivo</th>\n",
       "      <th>XOLO</th>\n",
       "      <th>Xiaomi</th>\n",
       "      <th>ZTE</th>\n",
       "      <th>Android</th>\n",
       "      <th>Others</th>\n",
       "      <th>Windows</th>\n",
       "      <th>iOS</th>\n",
       "    </tr>\n",
       "  </thead>\n",
       "  <tbody>\n",
       "    <tr>\n",
       "      <th>0</th>\n",
       "      <td>23.97</td>\n",
       "      <td>yes</td>\n",
       "      <td>no</td>\n",
       "      <td>13.0</td>\n",
       "      <td>5.0</td>\n",
       "      <td>64.0</td>\n",
       "      <td>3.0</td>\n",
       "      <td>3020.0</td>\n",
       "      <td>146.0</td>\n",
       "      <td>2020</td>\n",
       "      <td>...</td>\n",
       "      <td>0</td>\n",
       "      <td>0</td>\n",
       "      <td>0</td>\n",
       "      <td>0</td>\n",
       "      <td>0</td>\n",
       "      <td>0</td>\n",
       "      <td>1</td>\n",
       "      <td>0</td>\n",
       "      <td>0</td>\n",
       "      <td>0</td>\n",
       "    </tr>\n",
       "    <tr>\n",
       "      <th>1</th>\n",
       "      <td>28.10</td>\n",
       "      <td>yes</td>\n",
       "      <td>yes</td>\n",
       "      <td>13.0</td>\n",
       "      <td>16.0</td>\n",
       "      <td>128.0</td>\n",
       "      <td>8.0</td>\n",
       "      <td>4300.0</td>\n",
       "      <td>213.0</td>\n",
       "      <td>2020</td>\n",
       "      <td>...</td>\n",
       "      <td>0</td>\n",
       "      <td>0</td>\n",
       "      <td>0</td>\n",
       "      <td>0</td>\n",
       "      <td>0</td>\n",
       "      <td>0</td>\n",
       "      <td>1</td>\n",
       "      <td>0</td>\n",
       "      <td>0</td>\n",
       "      <td>0</td>\n",
       "    </tr>\n",
       "    <tr>\n",
       "      <th>2</th>\n",
       "      <td>24.29</td>\n",
       "      <td>yes</td>\n",
       "      <td>yes</td>\n",
       "      <td>13.0</td>\n",
       "      <td>8.0</td>\n",
       "      <td>128.0</td>\n",
       "      <td>8.0</td>\n",
       "      <td>4200.0</td>\n",
       "      <td>213.0</td>\n",
       "      <td>2020</td>\n",
       "      <td>...</td>\n",
       "      <td>0</td>\n",
       "      <td>0</td>\n",
       "      <td>0</td>\n",
       "      <td>0</td>\n",
       "      <td>0</td>\n",
       "      <td>0</td>\n",
       "      <td>1</td>\n",
       "      <td>0</td>\n",
       "      <td>0</td>\n",
       "      <td>0</td>\n",
       "    </tr>\n",
       "    <tr>\n",
       "      <th>3</th>\n",
       "      <td>26.04</td>\n",
       "      <td>yes</td>\n",
       "      <td>yes</td>\n",
       "      <td>13.0</td>\n",
       "      <td>8.0</td>\n",
       "      <td>64.0</td>\n",
       "      <td>6.0</td>\n",
       "      <td>7250.0</td>\n",
       "      <td>480.0</td>\n",
       "      <td>2020</td>\n",
       "      <td>...</td>\n",
       "      <td>0</td>\n",
       "      <td>0</td>\n",
       "      <td>0</td>\n",
       "      <td>0</td>\n",
       "      <td>0</td>\n",
       "      <td>0</td>\n",
       "      <td>1</td>\n",
       "      <td>0</td>\n",
       "      <td>0</td>\n",
       "      <td>0</td>\n",
       "    </tr>\n",
       "    <tr>\n",
       "      <th>4</th>\n",
       "      <td>15.72</td>\n",
       "      <td>yes</td>\n",
       "      <td>no</td>\n",
       "      <td>13.0</td>\n",
       "      <td>8.0</td>\n",
       "      <td>64.0</td>\n",
       "      <td>3.0</td>\n",
       "      <td>5000.0</td>\n",
       "      <td>185.0</td>\n",
       "      <td>2020</td>\n",
       "      <td>...</td>\n",
       "      <td>0</td>\n",
       "      <td>0</td>\n",
       "      <td>0</td>\n",
       "      <td>0</td>\n",
       "      <td>0</td>\n",
       "      <td>0</td>\n",
       "      <td>1</td>\n",
       "      <td>0</td>\n",
       "      <td>0</td>\n",
       "      <td>0</td>\n",
       "    </tr>\n",
       "  </tbody>\n",
       "</table>\n",
       "<p>5 rows × 49 columns</p>\n",
       "</div>"
      ],
      "text/plain": [
       "   screen_size   4g   5g  main_camera_mp  selfie_camera_mp  int_memory  ram  \\\n",
       "0        23.97  yes   no            13.0               5.0        64.0  3.0   \n",
       "1        28.10  yes  yes            13.0              16.0       128.0  8.0   \n",
       "2        24.29  yes  yes            13.0               8.0       128.0  8.0   \n",
       "3        26.04  yes  yes            13.0               8.0        64.0  6.0   \n",
       "4        15.72  yes   no            13.0               8.0        64.0  3.0   \n",
       "\n",
       "   battery  weight  release_year  ...  Sony  Spice  Vivo  XOLO  Xiaomi  ZTE  \\\n",
       "0   3020.0   146.0          2020  ...     0      0     0     0       0    0   \n",
       "1   4300.0   213.0          2020  ...     0      0     0     0       0    0   \n",
       "2   4200.0   213.0          2020  ...     0      0     0     0       0    0   \n",
       "3   7250.0   480.0          2020  ...     0      0     0     0       0    0   \n",
       "4   5000.0   185.0          2020  ...     0      0     0     0       0    0   \n",
       "\n",
       "   Android  Others  Windows  iOS  \n",
       "0        1       0        0    0  \n",
       "1        1       0        0    0  \n",
       "2        1       0        0    0  \n",
       "3        1       0        0    0  \n",
       "4        1       0        0    0  \n",
       "\n",
       "[5 rows x 49 columns]"
      ]
     },
     "execution_count": 33,
     "metadata": {},
     "output_type": "execute_result"
    }
   ],
   "source": [
    "x = pd.concat([x, os1], axis=1)\n",
    "x.drop(['os'], axis=1, inplace=True)\n",
    "x.head()"
   ]
  },
  {
   "cell_type": "code",
   "execution_count": null,
   "id": "a2d9753b",
   "metadata": {},
   "outputs": [],
   "source": []
  },
  {
   "cell_type": "markdown",
   "id": "68fe8f21",
   "metadata": {},
   "source": [
    "### Mapping 4G and 5G columns to 0, 1 values."
   ]
  },
  {
   "cell_type": "code",
   "execution_count": 34,
   "id": "aa4f0d48",
   "metadata": {},
   "outputs": [
    {
     "data": {
      "text/html": [
       "<div>\n",
       "<style scoped>\n",
       "    .dataframe tbody tr th:only-of-type {\n",
       "        vertical-align: middle;\n",
       "    }\n",
       "\n",
       "    .dataframe tbody tr th {\n",
       "        vertical-align: top;\n",
       "    }\n",
       "\n",
       "    .dataframe thead th {\n",
       "        text-align: right;\n",
       "    }\n",
       "</style>\n",
       "<table border=\"1\" class=\"dataframe\">\n",
       "  <thead>\n",
       "    <tr style=\"text-align: right;\">\n",
       "      <th></th>\n",
       "      <th>screen_size</th>\n",
       "      <th>4g</th>\n",
       "      <th>5g</th>\n",
       "      <th>main_camera_mp</th>\n",
       "      <th>selfie_camera_mp</th>\n",
       "      <th>int_memory</th>\n",
       "      <th>ram</th>\n",
       "      <th>battery</th>\n",
       "      <th>weight</th>\n",
       "      <th>release_year</th>\n",
       "      <th>...</th>\n",
       "      <th>Sony</th>\n",
       "      <th>Spice</th>\n",
       "      <th>Vivo</th>\n",
       "      <th>XOLO</th>\n",
       "      <th>Xiaomi</th>\n",
       "      <th>ZTE</th>\n",
       "      <th>Android</th>\n",
       "      <th>Others</th>\n",
       "      <th>Windows</th>\n",
       "      <th>iOS</th>\n",
       "    </tr>\n",
       "  </thead>\n",
       "  <tbody>\n",
       "    <tr>\n",
       "      <th>0</th>\n",
       "      <td>23.97</td>\n",
       "      <td>1</td>\n",
       "      <td>no</td>\n",
       "      <td>13.0</td>\n",
       "      <td>5.0</td>\n",
       "      <td>64.0</td>\n",
       "      <td>3.0</td>\n",
       "      <td>3020.0</td>\n",
       "      <td>146.0</td>\n",
       "      <td>2020</td>\n",
       "      <td>...</td>\n",
       "      <td>0</td>\n",
       "      <td>0</td>\n",
       "      <td>0</td>\n",
       "      <td>0</td>\n",
       "      <td>0</td>\n",
       "      <td>0</td>\n",
       "      <td>1</td>\n",
       "      <td>0</td>\n",
       "      <td>0</td>\n",
       "      <td>0</td>\n",
       "    </tr>\n",
       "    <tr>\n",
       "      <th>1</th>\n",
       "      <td>28.10</td>\n",
       "      <td>1</td>\n",
       "      <td>yes</td>\n",
       "      <td>13.0</td>\n",
       "      <td>16.0</td>\n",
       "      <td>128.0</td>\n",
       "      <td>8.0</td>\n",
       "      <td>4300.0</td>\n",
       "      <td>213.0</td>\n",
       "      <td>2020</td>\n",
       "      <td>...</td>\n",
       "      <td>0</td>\n",
       "      <td>0</td>\n",
       "      <td>0</td>\n",
       "      <td>0</td>\n",
       "      <td>0</td>\n",
       "      <td>0</td>\n",
       "      <td>1</td>\n",
       "      <td>0</td>\n",
       "      <td>0</td>\n",
       "      <td>0</td>\n",
       "    </tr>\n",
       "    <tr>\n",
       "      <th>2</th>\n",
       "      <td>24.29</td>\n",
       "      <td>1</td>\n",
       "      <td>yes</td>\n",
       "      <td>13.0</td>\n",
       "      <td>8.0</td>\n",
       "      <td>128.0</td>\n",
       "      <td>8.0</td>\n",
       "      <td>4200.0</td>\n",
       "      <td>213.0</td>\n",
       "      <td>2020</td>\n",
       "      <td>...</td>\n",
       "      <td>0</td>\n",
       "      <td>0</td>\n",
       "      <td>0</td>\n",
       "      <td>0</td>\n",
       "      <td>0</td>\n",
       "      <td>0</td>\n",
       "      <td>1</td>\n",
       "      <td>0</td>\n",
       "      <td>0</td>\n",
       "      <td>0</td>\n",
       "    </tr>\n",
       "    <tr>\n",
       "      <th>3</th>\n",
       "      <td>26.04</td>\n",
       "      <td>1</td>\n",
       "      <td>yes</td>\n",
       "      <td>13.0</td>\n",
       "      <td>8.0</td>\n",
       "      <td>64.0</td>\n",
       "      <td>6.0</td>\n",
       "      <td>7250.0</td>\n",
       "      <td>480.0</td>\n",
       "      <td>2020</td>\n",
       "      <td>...</td>\n",
       "      <td>0</td>\n",
       "      <td>0</td>\n",
       "      <td>0</td>\n",
       "      <td>0</td>\n",
       "      <td>0</td>\n",
       "      <td>0</td>\n",
       "      <td>1</td>\n",
       "      <td>0</td>\n",
       "      <td>0</td>\n",
       "      <td>0</td>\n",
       "    </tr>\n",
       "    <tr>\n",
       "      <th>4</th>\n",
       "      <td>15.72</td>\n",
       "      <td>1</td>\n",
       "      <td>no</td>\n",
       "      <td>13.0</td>\n",
       "      <td>8.0</td>\n",
       "      <td>64.0</td>\n",
       "      <td>3.0</td>\n",
       "      <td>5000.0</td>\n",
       "      <td>185.0</td>\n",
       "      <td>2020</td>\n",
       "      <td>...</td>\n",
       "      <td>0</td>\n",
       "      <td>0</td>\n",
       "      <td>0</td>\n",
       "      <td>0</td>\n",
       "      <td>0</td>\n",
       "      <td>0</td>\n",
       "      <td>1</td>\n",
       "      <td>0</td>\n",
       "      <td>0</td>\n",
       "      <td>0</td>\n",
       "    </tr>\n",
       "  </tbody>\n",
       "</table>\n",
       "<p>5 rows × 49 columns</p>\n",
       "</div>"
      ],
      "text/plain": [
       "   screen_size  4g   5g  main_camera_mp  selfie_camera_mp  int_memory  ram  \\\n",
       "0        23.97   1   no            13.0               5.0        64.0  3.0   \n",
       "1        28.10   1  yes            13.0              16.0       128.0  8.0   \n",
       "2        24.29   1  yes            13.0               8.0       128.0  8.0   \n",
       "3        26.04   1  yes            13.0               8.0        64.0  6.0   \n",
       "4        15.72   1   no            13.0               8.0        64.0  3.0   \n",
       "\n",
       "   battery  weight  release_year  ...  Sony  Spice  Vivo  XOLO  Xiaomi  ZTE  \\\n",
       "0   3020.0   146.0          2020  ...     0      0     0     0       0    0   \n",
       "1   4300.0   213.0          2020  ...     0      0     0     0       0    0   \n",
       "2   4200.0   213.0          2020  ...     0      0     0     0       0    0   \n",
       "3   7250.0   480.0          2020  ...     0      0     0     0       0    0   \n",
       "4   5000.0   185.0          2020  ...     0      0     0     0       0    0   \n",
       "\n",
       "   Android  Others  Windows  iOS  \n",
       "0        1       0        0    0  \n",
       "1        1       0        0    0  \n",
       "2        1       0        0    0  \n",
       "3        1       0        0    0  \n",
       "4        1       0        0    0  \n",
       "\n",
       "[5 rows x 49 columns]"
      ]
     },
     "execution_count": 34,
     "metadata": {},
     "output_type": "execute_result"
    }
   ],
   "source": [
    "x['4g'] = x['4g'].map({'yes':1,'no':0})\n",
    "x.head()"
   ]
  },
  {
   "cell_type": "code",
   "execution_count": 35,
   "id": "0553113d",
   "metadata": {},
   "outputs": [
    {
     "data": {
      "text/html": [
       "<div>\n",
       "<style scoped>\n",
       "    .dataframe tbody tr th:only-of-type {\n",
       "        vertical-align: middle;\n",
       "    }\n",
       "\n",
       "    .dataframe tbody tr th {\n",
       "        vertical-align: top;\n",
       "    }\n",
       "\n",
       "    .dataframe thead th {\n",
       "        text-align: right;\n",
       "    }\n",
       "</style>\n",
       "<table border=\"1\" class=\"dataframe\">\n",
       "  <thead>\n",
       "    <tr style=\"text-align: right;\">\n",
       "      <th></th>\n",
       "      <th>screen_size</th>\n",
       "      <th>4g</th>\n",
       "      <th>5g</th>\n",
       "      <th>main_camera_mp</th>\n",
       "      <th>selfie_camera_mp</th>\n",
       "      <th>int_memory</th>\n",
       "      <th>ram</th>\n",
       "      <th>battery</th>\n",
       "      <th>weight</th>\n",
       "      <th>release_year</th>\n",
       "      <th>...</th>\n",
       "      <th>Sony</th>\n",
       "      <th>Spice</th>\n",
       "      <th>Vivo</th>\n",
       "      <th>XOLO</th>\n",
       "      <th>Xiaomi</th>\n",
       "      <th>ZTE</th>\n",
       "      <th>Android</th>\n",
       "      <th>Others</th>\n",
       "      <th>Windows</th>\n",
       "      <th>iOS</th>\n",
       "    </tr>\n",
       "  </thead>\n",
       "  <tbody>\n",
       "    <tr>\n",
       "      <th>0</th>\n",
       "      <td>23.97</td>\n",
       "      <td>1</td>\n",
       "      <td>0</td>\n",
       "      <td>13.0</td>\n",
       "      <td>5.0</td>\n",
       "      <td>64.0</td>\n",
       "      <td>3.0</td>\n",
       "      <td>3020.0</td>\n",
       "      <td>146.0</td>\n",
       "      <td>2020</td>\n",
       "      <td>...</td>\n",
       "      <td>0</td>\n",
       "      <td>0</td>\n",
       "      <td>0</td>\n",
       "      <td>0</td>\n",
       "      <td>0</td>\n",
       "      <td>0</td>\n",
       "      <td>1</td>\n",
       "      <td>0</td>\n",
       "      <td>0</td>\n",
       "      <td>0</td>\n",
       "    </tr>\n",
       "    <tr>\n",
       "      <th>1</th>\n",
       "      <td>28.10</td>\n",
       "      <td>1</td>\n",
       "      <td>1</td>\n",
       "      <td>13.0</td>\n",
       "      <td>16.0</td>\n",
       "      <td>128.0</td>\n",
       "      <td>8.0</td>\n",
       "      <td>4300.0</td>\n",
       "      <td>213.0</td>\n",
       "      <td>2020</td>\n",
       "      <td>...</td>\n",
       "      <td>0</td>\n",
       "      <td>0</td>\n",
       "      <td>0</td>\n",
       "      <td>0</td>\n",
       "      <td>0</td>\n",
       "      <td>0</td>\n",
       "      <td>1</td>\n",
       "      <td>0</td>\n",
       "      <td>0</td>\n",
       "      <td>0</td>\n",
       "    </tr>\n",
       "    <tr>\n",
       "      <th>2</th>\n",
       "      <td>24.29</td>\n",
       "      <td>1</td>\n",
       "      <td>1</td>\n",
       "      <td>13.0</td>\n",
       "      <td>8.0</td>\n",
       "      <td>128.0</td>\n",
       "      <td>8.0</td>\n",
       "      <td>4200.0</td>\n",
       "      <td>213.0</td>\n",
       "      <td>2020</td>\n",
       "      <td>...</td>\n",
       "      <td>0</td>\n",
       "      <td>0</td>\n",
       "      <td>0</td>\n",
       "      <td>0</td>\n",
       "      <td>0</td>\n",
       "      <td>0</td>\n",
       "      <td>1</td>\n",
       "      <td>0</td>\n",
       "      <td>0</td>\n",
       "      <td>0</td>\n",
       "    </tr>\n",
       "    <tr>\n",
       "      <th>3</th>\n",
       "      <td>26.04</td>\n",
       "      <td>1</td>\n",
       "      <td>1</td>\n",
       "      <td>13.0</td>\n",
       "      <td>8.0</td>\n",
       "      <td>64.0</td>\n",
       "      <td>6.0</td>\n",
       "      <td>7250.0</td>\n",
       "      <td>480.0</td>\n",
       "      <td>2020</td>\n",
       "      <td>...</td>\n",
       "      <td>0</td>\n",
       "      <td>0</td>\n",
       "      <td>0</td>\n",
       "      <td>0</td>\n",
       "      <td>0</td>\n",
       "      <td>0</td>\n",
       "      <td>1</td>\n",
       "      <td>0</td>\n",
       "      <td>0</td>\n",
       "      <td>0</td>\n",
       "    </tr>\n",
       "    <tr>\n",
       "      <th>4</th>\n",
       "      <td>15.72</td>\n",
       "      <td>1</td>\n",
       "      <td>0</td>\n",
       "      <td>13.0</td>\n",
       "      <td>8.0</td>\n",
       "      <td>64.0</td>\n",
       "      <td>3.0</td>\n",
       "      <td>5000.0</td>\n",
       "      <td>185.0</td>\n",
       "      <td>2020</td>\n",
       "      <td>...</td>\n",
       "      <td>0</td>\n",
       "      <td>0</td>\n",
       "      <td>0</td>\n",
       "      <td>0</td>\n",
       "      <td>0</td>\n",
       "      <td>0</td>\n",
       "      <td>1</td>\n",
       "      <td>0</td>\n",
       "      <td>0</td>\n",
       "      <td>0</td>\n",
       "    </tr>\n",
       "  </tbody>\n",
       "</table>\n",
       "<p>5 rows × 49 columns</p>\n",
       "</div>"
      ],
      "text/plain": [
       "   screen_size  4g  5g  main_camera_mp  selfie_camera_mp  int_memory  ram  \\\n",
       "0        23.97   1   0            13.0               5.0        64.0  3.0   \n",
       "1        28.10   1   1            13.0              16.0       128.0  8.0   \n",
       "2        24.29   1   1            13.0               8.0       128.0  8.0   \n",
       "3        26.04   1   1            13.0               8.0        64.0  6.0   \n",
       "4        15.72   1   0            13.0               8.0        64.0  3.0   \n",
       "\n",
       "   battery  weight  release_year  ...  Sony  Spice  Vivo  XOLO  Xiaomi  ZTE  \\\n",
       "0   3020.0   146.0          2020  ...     0      0     0     0       0    0   \n",
       "1   4300.0   213.0          2020  ...     0      0     0     0       0    0   \n",
       "2   4200.0   213.0          2020  ...     0      0     0     0       0    0   \n",
       "3   7250.0   480.0          2020  ...     0      0     0     0       0    0   \n",
       "4   5000.0   185.0          2020  ...     0      0     0     0       0    0   \n",
       "\n",
       "   Android  Others  Windows  iOS  \n",
       "0        1       0        0    0  \n",
       "1        1       0        0    0  \n",
       "2        1       0        0    0  \n",
       "3        1       0        0    0  \n",
       "4        1       0        0    0  \n",
       "\n",
       "[5 rows x 49 columns]"
      ]
     },
     "execution_count": 35,
     "metadata": {},
     "output_type": "execute_result"
    }
   ],
   "source": [
    "x['5g'] = x['5g'].map({'yes':1,'no':0})\n",
    "x.head()"
   ]
  },
  {
   "cell_type": "code",
   "execution_count": 36,
   "id": "6fd0e286",
   "metadata": {},
   "outputs": [
    {
     "name": "stdout",
     "output_type": "stream",
     "text": [
      "<class 'pandas.core.frame.DataFrame'>\n",
      "Int64Index: 3558 entries, 0 to 3570\n",
      "Data columns (total 49 columns):\n",
      " #   Column            Non-Null Count  Dtype  \n",
      "---  ------            --------------  -----  \n",
      " 0   screen_size       3558 non-null   float64\n",
      " 1   4g                3558 non-null   int64  \n",
      " 2   5g                3558 non-null   int64  \n",
      " 3   main_camera_mp    3558 non-null   float64\n",
      " 4   selfie_camera_mp  3558 non-null   float64\n",
      " 5   int_memory        3558 non-null   float64\n",
      " 6   ram               3558 non-null   float64\n",
      " 7   battery           3558 non-null   float64\n",
      " 8   weight            3558 non-null   float64\n",
      " 9   release_year      3558 non-null   int64  \n",
      " 10  days_used         3558 non-null   int64  \n",
      " 11  Acer              3558 non-null   uint8  \n",
      " 12  Alcatel           3558 non-null   uint8  \n",
      " 13  Apple             3558 non-null   uint8  \n",
      " 14  Asus              3558 non-null   uint8  \n",
      " 15  BlackBerry        3558 non-null   uint8  \n",
      " 16  Celkon            3558 non-null   uint8  \n",
      " 17  Coolpad           3558 non-null   uint8  \n",
      " 18  Gionee            3558 non-null   uint8  \n",
      " 19  Google            3558 non-null   uint8  \n",
      " 20  HTC               3558 non-null   uint8  \n",
      " 21  Honor             3558 non-null   uint8  \n",
      " 22  Huawei            3558 non-null   uint8  \n",
      " 23  Infinix           3558 non-null   uint8  \n",
      " 24  Karbonn           3558 non-null   uint8  \n",
      " 25  LG                3558 non-null   uint8  \n",
      " 26  Lava              3558 non-null   uint8  \n",
      " 27  Lenovo            3558 non-null   uint8  \n",
      " 28  Meizu             3558 non-null   uint8  \n",
      " 29  Micromax          3558 non-null   uint8  \n",
      " 30  Microsoft         3558 non-null   uint8  \n",
      " 31  Motorola          3558 non-null   uint8  \n",
      " 32  Nokia             3558 non-null   uint8  \n",
      " 33  OnePlus           3558 non-null   uint8  \n",
      " 34  Oppo              3558 non-null   uint8  \n",
      " 35  Others            3558 non-null   uint8  \n",
      " 36  Panasonic         3558 non-null   uint8  \n",
      " 37  Realme            3558 non-null   uint8  \n",
      " 38  Samsung           3558 non-null   uint8  \n",
      " 39  Sony              3558 non-null   uint8  \n",
      " 40  Spice             3558 non-null   uint8  \n",
      " 41  Vivo              3558 non-null   uint8  \n",
      " 42  XOLO              3558 non-null   uint8  \n",
      " 43  Xiaomi            3558 non-null   uint8  \n",
      " 44  ZTE               3558 non-null   uint8  \n",
      " 45  Android           3558 non-null   uint8  \n",
      " 46  Others            3558 non-null   uint8  \n",
      " 47  Windows           3558 non-null   uint8  \n",
      " 48  iOS               3558 non-null   uint8  \n",
      "dtypes: float64(7), int64(4), uint8(38)\n",
      "memory usage: 594.6 KB\n"
     ]
    }
   ],
   "source": [
    "x.info()"
   ]
  },
  {
   "cell_type": "code",
   "execution_count": null,
   "id": "d83b56d7",
   "metadata": {},
   "outputs": [],
   "source": []
  },
  {
   "cell_type": "markdown",
   "id": "ef44ef62",
   "metadata": {},
   "source": [
    "### import and applying Linear Regression Model."
   ]
  },
  {
   "cell_type": "code",
   "execution_count": 37,
   "id": "9701d00f",
   "metadata": {},
   "outputs": [],
   "source": [
    "lr = LinearRegression().fit(x, y)"
   ]
  },
  {
   "cell_type": "code",
   "execution_count": 38,
   "id": "b36cf59a",
   "metadata": {},
   "outputs": [
    {
     "data": {
      "text/plain": [
       "0.5284091223424312"
      ]
     },
     "execution_count": 38,
     "metadata": {},
     "output_type": "execute_result"
    }
   ],
   "source": [
    "lr.score(x, y)"
   ]
  },
  {
   "cell_type": "code",
   "execution_count": null,
   "id": "284f5e29",
   "metadata": {},
   "outputs": [],
   "source": []
  },
  {
   "cell_type": "markdown",
   "id": "6f0c88dc",
   "metadata": {},
   "source": [
    "### Model Coefficients"
   ]
  },
  {
   "cell_type": "code",
   "execution_count": 39,
   "id": "9fdf94d2",
   "metadata": {},
   "outputs": [
    {
     "name": "stdout",
     "output_type": "stream",
     "text": [
      "[(2.5222471331264957, 'screen_size'), (37.933552735280074, '4g'), (194.92131696121388, '5g'), (8.90003723345176, 'main_camera_mp'), (3.0310069041727887, 'selfie_camera_mp'), (0.6231287573191828, 'int_memory'), (29.669889048152356, 'ram'), (0.006876538503870044, 'battery'), (0.18553850613818668, 'weight'), (-10.760500882601168, 'release_year'), (-0.005526603243509953, 'days_used'), (-15.077390604250661, 'Acer'), (-11.82997860155012, 'Alcatel'), (305.6524961338421, 'Apple'), (9.003947151760991, 'Asus'), (9.458714931744884, 'BlackBerry'), (-101.9227739948285, 'Celkon'), (-38.18509028490515, 'Coolpad'), (33.10913682344998, 'Gionee'), (207.62691825396902, 'Google'), (22.180939390036873, 'HTC'), (-98.13572705201351, 'Honor'), (11.408397187823589, 'Huawei'), (-1.4767316261466445, 'Infinix'), (-48.592938104630626, 'Karbonn'), (33.50324115923196, 'LG'), (-73.12772120221881, 'Lava'), (-40.338090277546684, 'Lenovo'), (-8.816993341744167, 'Meizu'), (-49.74765199622148, 'Micromax'), (-58.40339913455301, 'Microsoft'), (-32.005832069135394, 'Motorola'), (-14.575600043736213, 'Nokia'), (151.7353744598327, 'OnePlus'), (9.28453321144423, 'Oppo'), (-2.56544971312368, 'Others'), (-33.81664445282049, 'Panasonic'), (-38.55195257006762, 'Realme'), (53.60152197149398, 'Samsung'), (16.10984041256283, 'Sony'), (-53.41575922048803, 'Spice'), (-19.061013450770133, 'Vivo'), (-28.433322501585906, 'XOLO'), (-63.350542912435, 'Xiaomi'), (-31.244457932427263, 'ZTE'), (-26.96030716169487, 'Android'), (-19.782907533355957, 'Others'), (-4.851217046984936, 'Windows'), (51.59443174205702, 'iOS')]\n"
     ]
    }
   ],
   "source": [
    "print(list(zip(lr.coef_, x.columns)))"
   ]
  },
  {
   "cell_type": "markdown",
   "id": "f03cb2fb",
   "metadata": {},
   "source": [
    "### Model Coffecients with Column names. and arranged in Descending order."
   ]
  },
  {
   "cell_type": "code",
   "execution_count": 40,
   "id": "609b7e40",
   "metadata": {},
   "outputs": [],
   "source": [
    "coef = pd.DataFrame({\"Feature\":x.columns.tolist(),\"Coefficients\":lr.coef_})"
   ]
  },
  {
   "cell_type": "code",
   "execution_count": 41,
   "id": "07abaa72",
   "metadata": {},
   "outputs": [
    {
     "data": {
      "text/html": [
       "<div>\n",
       "<style scoped>\n",
       "    .dataframe tbody tr th:only-of-type {\n",
       "        vertical-align: middle;\n",
       "    }\n",
       "\n",
       "    .dataframe tbody tr th {\n",
       "        vertical-align: top;\n",
       "    }\n",
       "\n",
       "    .dataframe thead th {\n",
       "        text-align: right;\n",
       "    }\n",
       "</style>\n",
       "<table border=\"1\" class=\"dataframe\">\n",
       "  <thead>\n",
       "    <tr style=\"text-align: right;\">\n",
       "      <th></th>\n",
       "      <th>Feature</th>\n",
       "      <th>Coefficients</th>\n",
       "    </tr>\n",
       "  </thead>\n",
       "  <tbody>\n",
       "    <tr>\n",
       "      <th>13</th>\n",
       "      <td>Apple</td>\n",
       "      <td>305.652496</td>\n",
       "    </tr>\n",
       "    <tr>\n",
       "      <th>19</th>\n",
       "      <td>Google</td>\n",
       "      <td>207.626918</td>\n",
       "    </tr>\n",
       "    <tr>\n",
       "      <th>2</th>\n",
       "      <td>5g</td>\n",
       "      <td>194.921317</td>\n",
       "    </tr>\n",
       "    <tr>\n",
       "      <th>33</th>\n",
       "      <td>OnePlus</td>\n",
       "      <td>151.735374</td>\n",
       "    </tr>\n",
       "    <tr>\n",
       "      <th>38</th>\n",
       "      <td>Samsung</td>\n",
       "      <td>53.601522</td>\n",
       "    </tr>\n",
       "    <tr>\n",
       "      <th>48</th>\n",
       "      <td>iOS</td>\n",
       "      <td>51.594432</td>\n",
       "    </tr>\n",
       "    <tr>\n",
       "      <th>1</th>\n",
       "      <td>4g</td>\n",
       "      <td>37.933553</td>\n",
       "    </tr>\n",
       "    <tr>\n",
       "      <th>25</th>\n",
       "      <td>LG</td>\n",
       "      <td>33.503241</td>\n",
       "    </tr>\n",
       "    <tr>\n",
       "      <th>18</th>\n",
       "      <td>Gionee</td>\n",
       "      <td>33.109137</td>\n",
       "    </tr>\n",
       "    <tr>\n",
       "      <th>6</th>\n",
       "      <td>ram</td>\n",
       "      <td>29.669889</td>\n",
       "    </tr>\n",
       "  </tbody>\n",
       "</table>\n",
       "</div>"
      ],
      "text/plain": [
       "    Feature  Coefficients\n",
       "13    Apple    305.652496\n",
       "19   Google    207.626918\n",
       "2        5g    194.921317\n",
       "33  OnePlus    151.735374\n",
       "38  Samsung     53.601522\n",
       "48      iOS     51.594432\n",
       "1        4g     37.933553\n",
       "25       LG     33.503241\n",
       "18   Gionee     33.109137\n",
       "6       ram     29.669889"
      ]
     },
     "execution_count": 41,
     "metadata": {},
     "output_type": "execute_result"
    }
   ],
   "source": [
    "coef.sort_values(by='Coefficients', ascending=False)[:10]"
   ]
  },
  {
   "cell_type": "code",
   "execution_count": 42,
   "id": "44f1585a",
   "metadata": {},
   "outputs": [],
   "source": [
    "y_pred = lr.predict(x)"
   ]
  },
  {
   "cell_type": "code",
   "execution_count": null,
   "id": "e6311f7b",
   "metadata": {},
   "outputs": [],
   "source": []
  },
  {
   "cell_type": "markdown",
   "id": "d82c8e55",
   "metadata": {},
   "source": [
    "### Performance Metrics. \n",
    "### MAE\n",
    "### MSE\n",
    "### RMSE"
   ]
  },
  {
   "cell_type": "code",
   "execution_count": 43,
   "id": "4fcde5fe",
   "metadata": {},
   "outputs": [],
   "source": [
    "from sklearn import metrics"
   ]
  },
  {
   "cell_type": "code",
   "execution_count": 44,
   "id": "0d44b32c",
   "metadata": {},
   "outputs": [
    {
     "name": "stdout",
     "output_type": "stream",
     "text": [
      "81.8206423013493\n"
     ]
    }
   ],
   "source": [
    "print(metrics.mean_absolute_error(y, y_pred))"
   ]
  },
  {
   "cell_type": "code",
   "execution_count": 45,
   "id": "65d4641b",
   "metadata": {},
   "outputs": [
    {
     "name": "stdout",
     "output_type": "stream",
     "text": [
      "18430.737148068896\n"
     ]
    }
   ],
   "source": [
    "print(metrics.mean_squared_error(y, y_pred))"
   ]
  },
  {
   "cell_type": "code",
   "execution_count": 46,
   "id": "61c4a6ab",
   "metadata": {},
   "outputs": [
    {
     "name": "stdout",
     "output_type": "stream",
     "text": [
      "135.7598510166717\n"
     ]
    }
   ],
   "source": [
    "print(np.sqrt(metrics.mean_squared_error(y, y_pred)))"
   ]
  },
  {
   "cell_type": "code",
   "execution_count": null,
   "id": "b06a7511",
   "metadata": {},
   "outputs": [],
   "source": []
  }
 ],
 "metadata": {
  "kernelspec": {
   "display_name": "Python 3",
   "language": "python",
   "name": "python3"
  },
  "language_info": {
   "codemirror_mode": {
    "name": "ipython",
    "version": 3
   },
   "file_extension": ".py",
   "mimetype": "text/x-python",
   "name": "python",
   "nbconvert_exporter": "python",
   "pygments_lexer": "ipython3",
   "version": "3.8.8"
  }
 },
 "nbformat": 4,
 "nbformat_minor": 5
}
